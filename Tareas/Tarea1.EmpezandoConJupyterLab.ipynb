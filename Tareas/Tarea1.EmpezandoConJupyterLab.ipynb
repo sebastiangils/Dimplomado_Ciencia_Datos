{
 "cells": [
  {
   "cell_type": "markdown",
   "id": "133ae7a4",
   "metadata": {},
   "source": [
    "<center> <h1> Analisis de Componentes Principales  </h1> <img src= "Adicionales\ALLE-Logo.png" alt=\"mypic\" \n",
    "     style=\"width:100px; height:80px\"> </center>\n",
    "    "
   ]
  },
  {
   "cell_type": "markdown",
   "id": "a3aef8a5",
   "metadata": {},
   "source": [
    "<h2> Sebastian Gil Sanchez </h2> Presentación del autor\n",
    "<p>  Hola! Soy  estudiante de estadística de la UNAL, apasionado por la programación. Me gusta mucho aprender nuevas cosas relacionadas con tecnología. Mis hobbys son los deportes y el ejercicio.</p>\n",
    "<img src="\Adicionales\Perfil.jpg\" \n",
    "     style=\"width:250px; height:200px\">\n",
    "     \n",
    "Soy técnico en Sistemas y Computación del Instituto Técnico Central, aunque ha pasado un tiempo ya desde que me gradué del mismo, aún trato de estar actualizado en las últimas novedades de esta rama del conocimiento."
   ]
  },
  {
   "cell_type": "markdown",
   "id": "7ed101d9",
   "metadata": {},
   "source": [
    "La lección del día de hoy será de **Analisis de Componentes Principales**, un modelo de *aprendizaje no supervisado* en el que se busca relaciones entre variables de tipo cuantitativo. \n"
   ]
  },
  {
   "cell_type": "markdown",
   "id": "4d7e8714",
   "metadata": {},
   "source": [
    "### ¿Qué es el Analisis de Componentes Principales (ACP)? \n",
    "Es una técnica de análisis de datos utilizada para reducir la dimensionalidad de un conjunto de datos, es decir, para transformar un conjunto de variables correlacionadas en un conjunto de variables no correlacionadas llamadas componentes principales."
   ]
  },
  {
   "cell_type": "markdown",
   "id": "ae230b5c",
   "metadata": {},
   "source": [
    "### ¿En qué consiste su proceso?\n",
    "El objetivo del *ACP* es encontrar una combinación lineal de las variables originales que capture la mayor cantidad de variabilidad en los datos. Estas nuevas variables, llamadas componentes principales, son combinaciones lineales de las variables originales que están ordenadas de manera tal que la primera componente principal explica la mayor cantidad de variabilidad en los datos, la segunda componente explica la segunda mayor cantidad de variabilidad, y así sucesivamente."
   ]
  },
  {
   "cell_type": "markdown",
   "id": "5a693312",
   "metadata": {},
   "source": [
    "Cada componente principal $Z_i$ se obtiene por combinación lineal de las variables originales. Se pueden entender como nuevas variables obtenidas al combinar de una determinada forma las variables originales. La primera componente principal de un grupo de variables $(X_1, X_2, …, X_p)$ es la combinación lineal normalizada de dichas variables que tiene mayor varianza:\n",
    "\n",
    "$$ Z_1=ϕ_{11}X_1+ϕ_{21}X_2+...+ϕ_{p1}X_p $$"
   ]
  },
  {
   "cell_type": "markdown",
   "id": "c72afb63",
   "metadata": {},
   "source": [
    "### Ejemplo\n",
    "Importaremos el conjunto de datos **_Iris_**, bien conocido en el mundo de la ciencia de datos, y es con el cuál mostraremos el funcionamiento de este modelo."
   ]
  },
  {
   "cell_type": "code",
   "execution_count": 25,
   "id": "da8019ac",
   "metadata": {},
   "outputs": [],
   "source": [
    "from sklearn.datasets import load_iris\n",
    "import pandas as pd\n",
    "\n",
    "# Load the Iris dataset\n",
    "iris = load_iris()\n",
    "# Convert the data to a Pandas dataframe\n",
    "df = pd.DataFrame(iris.data, columns=iris.feature_names)"
   ]
  },
  {
   "cell_type": "code",
   "execution_count": 23,
   "id": "33919a35",
   "metadata": {},
   "outputs": [
    {
     "name": "stdout",
     "output_type": "stream",
     "text": [
      "          PC1       PC2       PC3       PC4\n",
      "0   -2.684126  0.319397 -0.027915 -0.002262\n",
      "1   -2.714142 -0.177001 -0.210464 -0.099027\n",
      "2   -2.888991 -0.144949  0.017900 -0.019968\n",
      "3   -2.745343 -0.318299  0.031559  0.075576\n",
      "4   -2.728717  0.326755  0.090079  0.061259\n",
      "..        ...       ...       ...       ...\n",
      "145  1.944110  0.187532  0.177825 -0.426196\n",
      "146  1.527167 -0.375317 -0.121898 -0.254367\n",
      "147  1.764346  0.078859  0.130482 -0.137001\n",
      "148  1.900942  0.116628  0.723252 -0.044595\n",
      "149  1.390189 -0.282661  0.362910  0.155039\n",
      "\n",
      "[150 rows x 4 columns]\n"
     ]
    }
   ],
   "source": [
    "from sklearn.decomposition import PCA\n",
    "\n",
    "# Perform PCA on the dataframe\n",
    "pca = PCA(n_components=4)\n",
    "pca_result = pca.fit_transform(df)\n",
    "\n",
    "# Convert the PCA result to a dataframe\n",
    "pca_df = pd.DataFrame(pca_result, columns=['PC1', 'PC2','PC3','PC4'])\n",
    "\n",
    "# Display the PCA result dataframe\n",
    "print(pca_df)"
   ]
  },
  {
   "cell_type": "code",
   "execution_count": 28,
   "id": "055b9d45",
   "metadata": {},
   "outputs": [
    {
     "data": {
      "image/png": "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\n",
      "text/plain": [
       "<Figure size 432x288 with 1 Axes>"
      ]
     },
     "metadata": {
      "needs_background": "light"
     },
     "output_type": "display_data"
    }
   ],
   "source": [
    "import matplotlib.pyplot as plt\n",
    "\n",
    "pca_df = pd.DataFrame(pca_df, columns=['PC1', 'PC2'])\n",
    "\n",
    "# Plot the first and second principal components as a scatter plot\n",
    "plt.scatter(pca_df['PC1'], pca_df['PC2'])\n",
    "\n",
    "# Label the axes\n",
    "plt.xlabel('PC1')\n",
    "plt.ylabel('PC2')\n",
    "\n",
    "# Show the plot\n",
    "plt.show()\n"
   ]
  },
  {
   "cell_type": "code",
   "execution_count": 29,
   "id": "51ec7ba3",
   "metadata": {},
   "outputs": [
    {
     "data": {
      "image/png": "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\n",
      "text/plain": [
       "<Figure size 432x288 with 1 Axes>"
      ]
     },
     "metadata": {
      "needs_background": "light"
     },
     "output_type": "display_data"
    }
   ],
   "source": [
    "# Get the correlations between the original variables and the principal components\n",
    "correlations = pd.DataFrame(pca.components_, columns=df.columns, index=['PC1', 'PC2', 'PC3', 'PC4'])\n",
    "\n",
    "# Plot the correlations\n",
    "for i, (col, color) in enumerate(zip(correlations, ['red', 'blue', 'green', 'yellow'])):\n",
    "    plt.scatter(pca.explained_variance_ratio_[i], col, color=color)\n",
    "\n",
    "# Label the axes\n",
    "plt.xlabel('Explained Variance Ratio')\n",
    "plt.ylabel('Correlation with Principal Components')\n",
    "\n",
    "# Show the plot\n",
    "plt.show()"
   ]
  },
  {
   "cell_type": "markdown",
   "id": "08284c8c",
   "metadata": {},
   "source": [
    "### Conclusiones\n",
    "El ACP es útil en muchas aplicaciones, incluyendo la visualización de datos multidimensionales, la identificación de patrones y tendencias en los datos, y la selección de variables importantes en un conjunto de datos.\n"
   ]
  },
  {
   "cell_type": "markdown",
   "id": "222613ad",
   "metadata": {},
   "source": [
    "## Referencias\n",
    "* [Análisis de Componentes Principales (Principal Component Analysis, PCA) y t-SNE](https://www.cienciadedatos.net/documentos/35_principal_component_analysis)\n",
    "* Logo generado por [DALL-E](https://labs.openai.com/)\n",
    "* Código generado por [ChatGPT](https://chat.openai.com/chat)"
   ]
  }
 ],
 "metadata": {
  "kernelspec": {
   "display_name": "Python 3",
   "language": "python",
   "name": "python3"
  },
  "language_info": {
   "codemirror_mode": {
    "name": "ipython",
    "version": 3
   },
   "file_extension": ".py",
   "mimetype": "text/x-python",
   "name": "python",
   "nbconvert_exporter": "python",
   "pygments_lexer": "ipython3",
   "version": "3.8.8"
  }
 },
 "nbformat": 4,
 "nbformat_minor": 5
}
