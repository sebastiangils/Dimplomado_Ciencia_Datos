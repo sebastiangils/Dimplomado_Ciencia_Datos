{
 "cells": [
  {
   "cell_type": "markdown",
   "id": "2285efb5",
   "metadata": {},
   "source": [
    "<center> <h1>  Redes generativas adversarias </h1>\n",
    "         <h3>  Elborado por <i> Sebastian Gil Sanchez </i> </h3>\n",
    "</center> \n",
    "\n",
    "### 1. Transforme el código de GAN-Mnist, para que quede todo escrito en clases (subclasing)"
   ]
  },
  {
   "cell_type": "markdown",
   "id": "c5de0512",
   "metadata": {},
   "source": [
    "### 2. Transforme el código de GAN-CelebA, escríbalo todo en Pytroch-lightning"
   ]
  },
  {
   "cell_type": "markdown",
   "id": "4b80c6d0",
   "metadata": {},
   "source": [
    "### 3. Corra al menos 10 iteraciones en Colab o localmente y muestre resultados parciales en su informe"
   ]
  },
  {
   "cell_type": "markdown",
   "id": "e76e4285",
   "metadata": {},
   "source": [
    "### 4. Realice un informe completo de la experiencia. "
   ]
  }
 ],
 "metadata": {
  "kernelspec": {
   "display_name": "Python 3 (ipykernel)",
   "language": "python",
   "name": "python3"
  },
  "language_info": {
   "codemirror_mode": {
    "name": "ipython",
    "version": 3
   },
   "file_extension": ".py",
   "mimetype": "text/x-python",
   "name": "python",
   "nbconvert_exporter": "python",
   "pygments_lexer": "ipython3",
   "version": "3.10.9"
  }
 },
 "nbformat": 4,
 "nbformat_minor": 5
}
