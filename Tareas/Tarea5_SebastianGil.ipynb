{
 "cells": [
  {
   "cell_type": "markdown",
   "id": "1195ae6d",
   "metadata": {},
   "source": [
    "<center> <h1> Predicción del valor de las acciones en la bolsa </h1>\n",
    "    <h3>  Elborado por <i> Sebastian Gil Sanchez </i> </h3>\n",
    "</center> \n",
    "\n",
    "### 1. Suscríbase a las API de Yahoo-Finance y Alpha-Vantage"
   ]
  },
  {
   "cell_type": "code",
   "execution_count": null,
   "id": "fcd59505",
   "metadata": {},
   "outputs": [],
   "source": [
    "!pip install yfinance\n",
    "!pip install alpha_vantage"
   ]
  },
  {
   "cell_type": "code",
   "execution_count": 6,
   "id": "0fe1a458",
   "metadata": {},
   "outputs": [
    {
     "name": "stdout",
     "output_type": "stream",
     "text": [
      "Defaulting to user installation because normal site-packages is not writeable\n",
      "Requirement already satisfied: yfinance in c:\\users\\gsgil\\appdata\\roaming\\python\\python310\\site-packages (0.2.20)\n",
      "Requirement already satisfied: beautifulsoup4>=4.11.1 in c:\\programdata\\anaconda3\\lib\\site-packages (from yfinance) (4.11.1)\n",
      "Requirement already satisfied: numpy>=1.16.5 in c:\\programdata\\anaconda3\\lib\\site-packages (from yfinance) (1.23.5)\n",
      "Requirement already satisfied: requests>=2.26 in c:\\programdata\\anaconda3\\lib\\site-packages (from yfinance) (2.28.1)\n",
      "Requirement already satisfied: appdirs>=1.4.4 in c:\\programdata\\anaconda3\\lib\\site-packages (from yfinance) (1.4.4)\n",
      "Requirement already satisfied: pandas>=1.3.0 in c:\\programdata\\anaconda3\\lib\\site-packages (from yfinance) (1.5.3)\n",
      "Requirement already satisfied: frozendict>=2.3.4 in c:\\users\\gsgil\\appdata\\roaming\\python\\python310\\site-packages (from yfinance) (2.3.8)\n",
      "Requirement already satisfied: cryptography>=3.3.2 in c:\\programdata\\anaconda3\\lib\\site-packages (from yfinance) (39.0.1)\n",
      "Requirement already satisfied: pytz>=2022.5 in c:\\programdata\\anaconda3\\lib\\site-packages (from yfinance) (2022.7)\n",
      "Requirement already satisfied: html5lib>=1.1 in c:\\users\\gsgil\\appdata\\roaming\\python\\python310\\site-packages (from yfinance) (1.1)\n",
      "Requirement already satisfied: lxml>=4.9.1 in c:\\programdata\\anaconda3\\lib\\site-packages (from yfinance) (4.9.1)\n",
      "Requirement already satisfied: multitasking>=0.0.7 in c:\\users\\gsgil\\appdata\\roaming\\python\\python310\\site-packages (from yfinance) (0.0.11)\n",
      "Requirement already satisfied: soupsieve>1.2 in c:\\programdata\\anaconda3\\lib\\site-packages (from beautifulsoup4>=4.11.1->yfinance) (2.3.2.post1)\n",
      "Requirement already satisfied: cffi>=1.12 in c:\\programdata\\anaconda3\\lib\\site-packages (from cryptography>=3.3.2->yfinance) (1.15.1)\n",
      "Requirement already satisfied: webencodings in c:\\programdata\\anaconda3\\lib\\site-packages (from html5lib>=1.1->yfinance) (0.5.1)\n",
      "Requirement already satisfied: six>=1.9 in c:\\programdata\\anaconda3\\lib\\site-packages (from html5lib>=1.1->yfinance) (1.16.0)\n",
      "Requirement already satisfied: python-dateutil>=2.8.1 in c:\\programdata\\anaconda3\\lib\\site-packages (from pandas>=1.3.0->yfinance) (2.8.2)\n",
      "Requirement already satisfied: urllib3<1.27,>=1.21.1 in c:\\programdata\\anaconda3\\lib\\site-packages (from requests>=2.26->yfinance) (1.26.14)\n",
      "Requirement already satisfied: idna<4,>=2.5 in c:\\programdata\\anaconda3\\lib\\site-packages (from requests>=2.26->yfinance) (3.4)\n",
      "Requirement already satisfied: charset-normalizer<3,>=2 in c:\\programdata\\anaconda3\\lib\\site-packages (from requests>=2.26->yfinance) (2.0.4)\n",
      "Requirement already satisfied: certifi>=2017.4.17 in c:\\programdata\\anaconda3\\lib\\site-packages (from requests>=2.26->yfinance) (2022.12.7)\n",
      "Requirement already satisfied: pycparser in c:\\programdata\\anaconda3\\lib\\site-packages (from cffi>=1.12->cryptography>=3.3.2->yfinance) (2.21)\n",
      "Defaulting to user installation because normal site-packages is not writeable\n",
      "Collecting alpha_vantage\n",
      "  Downloading alpha_vantage-2.3.1-py3-none-any.whl (31 kB)\n",
      "Requirement already satisfied: requests in c:\\programdata\\anaconda3\\lib\\site-packages (from alpha_vantage) (2.28.1)\n",
      "Collecting aiohttp\n",
      "  Downloading aiohttp-3.8.4-cp310-cp310-win_amd64.whl (319 kB)\n",
      "     -------------------------------------- 319.8/319.8 kB 1.7 MB/s eta 0:00:00\n",
      "Requirement already satisfied: async-timeout<5.0,>=4.0.0a3 in c:\\users\\gsgil\\appdata\\roaming\\python\\python310\\site-packages (from aiohttp->alpha_vantage) (4.0.2)\n",
      "Requirement already satisfied: charset-normalizer<4.0,>=2.0 in c:\\programdata\\anaconda3\\lib\\site-packages (from aiohttp->alpha_vantage) (2.0.4)\n",
      "Collecting aiosignal>=1.1.2\n",
      "  Downloading aiosignal-1.3.1-py3-none-any.whl (7.6 kB)\n",
      "Requirement already satisfied: attrs>=17.3.0 in c:\\programdata\\anaconda3\\lib\\site-packages (from aiohttp->alpha_vantage) (22.1.0)\n",
      "Collecting frozenlist>=1.1.1\n",
      "  Downloading frozenlist-1.3.3-cp310-cp310-win_amd64.whl (33 kB)\n",
      "Collecting yarl<2.0,>=1.0\n",
      "  Downloading yarl-1.9.2-cp310-cp310-win_amd64.whl (61 kB)\n",
      "     ---------------------------------------- 61.0/61.0 kB 3.4 MB/s eta 0:00:00\n",
      "Collecting multidict<7.0,>=4.5\n",
      "  Downloading multidict-6.0.4-cp310-cp310-win_amd64.whl (28 kB)\n",
      "Requirement already satisfied: idna<4,>=2.5 in c:\\programdata\\anaconda3\\lib\\site-packages (from requests->alpha_vantage) (3.4)\n",
      "Requirement already satisfied: certifi>=2017.4.17 in c:\\programdata\\anaconda3\\lib\\site-packages (from requests->alpha_vantage) (2022.12.7)\n",
      "Requirement already satisfied: urllib3<1.27,>=1.21.1 in c:\\programdata\\anaconda3\\lib\\site-packages (from requests->alpha_vantage) (1.26.14)\n",
      "Installing collected packages: multidict, frozenlist, yarl, aiosignal, aiohttp, alpha_vantage\n",
      "Successfully installed aiohttp-3.8.4 aiosignal-1.3.1 alpha_vantage-2.3.1 frozenlist-1.3.3 multidict-6.0.4 yarl-1.9.2\n"
     ]
    }
   ],
   "source": [
    "# Librerías de Yahoo-Finance\n",
    "import yfinance as yf\n",
    "\n",
    "# Librerías de Alpha Vantage \n",
    "from alpha_vantage.timeseries import TimeSeries"
   ]
  },
  {
   "cell_type": "markdown",
   "id": "1cf074ac",
   "metadata": {},
   "source": [
    "### 2. Baje un conjunto  de datos que incluya la mayor cantidad de datos para un conjunto de empresas seleccionadas por usted."
   ]
  },
  {
   "cell_type": "code",
   "execution_count": 25,
   "id": "bd7689d4",
   "metadata": {},
   "outputs": [
    {
     "name": "stdout",
     "output_type": "stream",
     "text": [
      "[*********************100%***********************]  1 of 1 completed\n",
      "Datos de Nike:\n",
      "                  Open        High         Low       Close   Adj Close  \\\n",
      "Date                                                                     \n",
      "2021-01-04  142.850006  142.970001  138.320007  140.100006  136.735001   \n",
      "2021-01-05  138.600006  141.660004  138.600006  141.229996  137.837845   \n",
      "2021-01-06  141.250000  143.570007  139.529999  142.350006  138.931000   \n",
      "2021-01-07  143.199997  145.639999  143.000000  144.949997  141.468536   \n",
      "2021-01-08  145.550003  146.820007  144.899994  146.350006  142.834885   \n",
      "...                ...         ...         ...         ...         ...   \n",
      "2023-05-15  119.820000  119.989998  118.010002  119.830002  119.436852   \n",
      "2023-05-16  117.500000  117.839996  116.120003  116.480003  116.097847   \n",
      "2023-05-17  116.379997  117.129997  115.250000  116.980003  116.596207   \n",
      "2023-05-18  117.430000  119.150002  116.849998  118.870003  118.480003   \n",
      "2023-05-19  114.559998  115.489998  113.099998  114.760002  114.383492   \n",
      "\n",
      "              Volume  \n",
      "Date                  \n",
      "2021-01-04   6178500  \n",
      "2021-01-05   4163100  \n",
      "2021-01-06   6072900  \n",
      "2021-01-07   5256900  \n",
      "2021-01-08   3950500  \n",
      "...              ...  \n",
      "2023-05-15   5518200  \n",
      "2023-05-16   8306400  \n",
      "2023-05-17   7765400  \n",
      "2023-05-18   5970500  \n",
      "2023-05-19  11672400  \n",
      "\n",
      "[599 rows x 6 columns]\n",
      "Datos de Tesla:\n"
     ]
    }
   ],
   "source": [
    "############ Yahoo-Finance\n",
    "\n",
    "# Descargar datos de Nike\n",
    "nike_data = yf.download(\"NKE\", start=\"2021-01-01\", end=\"2023-05-22\")\n",
    "\n",
    "\n",
    "# Imprimir los datos descargados\n",
    "print(\"Datos de Nike:\")\n",
    "print(nike_data)\n",
    "\n",
    "############ Alpha Avantage\n",
    "\n",
    "API_key = \"1RSWE1BA8QHYSRBE\"\n",
    "\n",
    "# Instancia de cliente(?)\n",
    "ts = TimeSeries(key=API_key , output_format='pandas')\n",
    "\n",
    "# Descargar datos de Tesla utilizando alpha_vantage\n",
    "## tesla_data, meta_data = ts.get_daily(symbol=\"TSLA\", outputsize=\"compact\")\n",
    "\n",
    "# Imprimir los datos descargados\n",
    "print(\"Datos de Tesla:\")\n",
    "# print(tesla_data)"
   ]
  },
  {
   "cell_type": "markdown",
   "id": "65d1db73",
   "metadata": {},
   "source": [
    "### 3. Incluya todas las variables que considere necesario: precio apertura, promedio, alto, bajo , cierre, volumen transado."
   ]
  },
  {
   "cell_type": "code",
   "execution_count": 39,
   "id": "4a395032",
   "metadata": {},
   "outputs": [
    {
     "name": "stdout",
     "output_type": "stream",
     "text": [
      "[*********************100%***********************]  1 of 1 completed\n",
      "                  Open        High         Low       Close    Volume\n",
      "Date                                                                \n",
      "2022-01-03  167.529999  167.910004  163.309998  164.669998   5670500\n",
      "2022-01-04  165.880005  167.179993  165.000000  166.389999   6064200\n",
      "2022-01-05  166.490005  167.009995  162.100006  162.250000   5021000\n",
      "2022-01-06  162.089996  163.190002  159.059998  161.039993   4144600\n",
      "2022-01-07  160.770004  161.139999  156.860001  156.970001   5108000\n",
      "...                ...         ...         ...         ...       ...\n",
      "2023-05-15  119.820000  119.989998  118.010002  119.830002   5518200\n",
      "2023-05-16  117.500000  117.839996  116.120003  116.480003   8306400\n",
      "2023-05-17  116.379997  117.129997  115.250000  116.980003   7765400\n",
      "2023-05-18  117.430000  119.150002  116.849998  118.870003   5970500\n",
      "2023-05-19  114.559998  115.489998  113.099998  114.760002  11672400\n",
      "\n",
      "[347 rows x 5 columns]\n",
      "None\n"
     ]
    }
   ],
   "source": [
    "def datos(symbol):\n",
    "    data = yf.download(symbol, start=\"2022-01-01\", end=\"2023-05-22\")\n",
    "    data = data[['Open','High','Low','Close','Volume']]\n",
    "    print(data)\n",
    "\n",
    "print(datos(\"NKE\"))"
   ]
  },
  {
   "cell_type": "markdown",
   "id": "69a60a8c",
   "metadata": {},
   "source": [
    "### 4. Construya un modelo predictivo con un horizonte de tamaño _n_, que usted define de acuerdo con la longitud del periodo de cada observación. Mínimo 5 observaciones adelante método"
   ]
  },
  {
   "cell_type": "code",
   "execution_count": 40,
   "id": "8853934d",
   "metadata": {},
   "outputs": [],
   "source": [
    "import pandas as pd\n",
    "import numpy as np\n",
    "import matplotlib.pyplot as plt\n",
    "from statsmodels.tsa.arima.model import ARIMA ## Elegi un modelo ARIMddA"
   ]
  },
  {
   "cell_type": "markdown",
   "id": "1c2c3c5a",
   "metadata": {},
   "source": [
    "### 5. Calcule franja de confianza o credibilidad."
   ]
  }
 ],
 "metadata": {
  "kernelspec": {
   "display_name": "Python 3 (ipykernel)",
   "language": "python",
   "name": "python3"
  },
  "language_info": {
   "codemirror_mode": {
    "name": "ipython",
    "version": 3
   },
   "file_extension": ".py",
   "mimetype": "text/x-python",
   "name": "python",
   "nbconvert_exporter": "python",
   "pygments_lexer": "ipython3",
   "version": "3.10.9"
  }
 },
 "nbformat": 4,
 "nbformat_minor": 5
}
