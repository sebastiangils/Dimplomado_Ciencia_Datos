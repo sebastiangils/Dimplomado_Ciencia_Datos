{
 "cells": [
  {
   "cell_type": "markdown",
   "id": "70427ab7",
   "metadata": {},
   "source": [
    "<center> <h1> Programación orientada a objetos </h1>\n",
    "    <h3>  Elborado por <i> Sebastian Gil Sanchez </i> </h3>\n",
    "</center> \n",
    "\n",
    "### **1. Consiga el conjunto de datos iris.csv. En el repositorio de Aprendizaje Profundo encuentra alguna versión**"
   ]
  },
  {
   "cell_type": "code",
   "execution_count": 1,
   "id": "e733f77f",
   "metadata": {},
   "outputs": [],
   "source": [
    "from sklearn.datasets import load_iris\n",
    "import pandas as pd\n",
    "import numpy as np\n",
    "\n",
    "iris = load_iris()"
   ]
  },
  {
   "cell_type": "markdown",
   "id": "e6d524d9",
   "metadata": {},
   "source": [
    "### 2. Escriba una clase iterable que tenga la siguiente funcionalidad\n",
    "**2.1** Al instanciar un objeto, lee el archivo de datos y lo coloca en un dataframe interno en la clase.   \n",
    "**2.2** Cada vez que se le pidan datos, debe regresar los dos siguientes datos.   \n",
    "**2.3** Entregue un error si los datos se han agotado\n"
   ]
  },
  {
   "cell_type": "code",
   "execution_count": 6,
   "id": "5874b529",
   "metadata": {},
   "outputs": [],
   "source": [
    "import pandas as pd\n",
    "\n",
    "# Creación de la clase\n",
    "class Iterador:\n",
    "    # Guardar el archivo en un dataframe interno\n",
    "    def __init__(self, archivo):\n",
    "        self.dataframe = pd.read_csv(archivo)\n",
    "        self.index = 0\n",
    "\n",
    "    def __iter__(self):\n",
    "        return self\n",
    "    \n",
    "    # Metodo para iterar el indice\n",
    "    def __next__(self):\n",
    "        # Si el indice de inicio es más grande que el tamaño del dataframe, sale error\n",
    "        if self.index >= len(self.dataframe):\n",
    "            raise StopIteration(\"Error: Los datos se han agotado\")\n",
    "        start = self.index\n",
    "        end = self.index + 2\n",
    "        next_data = self.dataframe.iloc[start:end] # Indexación basado en filas (para eso es Pandas)\n",
    "        self.index += 2\n",
    "        return next_data"
   ]
  },
  {
   "cell_type": "markdown",
   "id": "c769b738",
   "metadata": {},
   "source": [
    "## Prueba 2\n"
   ]
  },
  {
   "cell_type": "code",
   "execution_count": 7,
   "id": "171808cb",
   "metadata": {},
   "outputs": [],
   "source": [
    "#data_iterator = Iterador(\"archivo.csv\")\n",
    "\n",
    "#for data in data_iterator:\n",
    "#    print(data)"
   ]
  },
  {
   "cell_type": "markdown",
   "id": "8e1eb3ec",
   "metadata": {},
   "source": [
    "### 3. Escriba una clase con las siguientes funcionalidades:    \n",
    "**3.1.** Al instanciar un objeto, lee un conjunto de datos numéricos. Por ejemplo puede usar el mismo conjunto de datos iris.csv. Instancie los datos en un dataframe de Pandas    \n",
    "**3.2** Implemente un método que calcule las estadísticas descriptivas básicas de cada una de las variables.     \n",
    "**3.3** Implemente un método que entregue los nombre de las variables disponibles.    \n",
    "**3.4** Implemente un método que reciba el nombre de una variable disponible dentro del objeto ( en el  dataframe) y regrese: sus estadísticas básicas:  media, mediana, desviación, percentiles q25, q50, q75 y dibuje un histograma de la distribución de la variable."
   ]
  },
  {
   "cell_type": "code",
   "execution_count": 8,
   "id": "fcd0b00f",
   "metadata": {},
   "outputs": [],
   "source": [
    "class Estadisticas:\n",
    "    def __init__(self, dataset):\n",
    "        df = pd.DataFrame(data=dataset.data, columns=dataset.feature_names)\n",
    "        df['target'] = dataset.target\n",
    "        self.dataset = df\n",
    "        \n",
    "    def descriptivas(self):\n",
    "        df = self.dataset\n",
    "        \n",
    "        def describe_column(column):\n",
    "            # Calcula el número de registros no nulos\n",
    "            count = column.count()\n",
    "\n",
    "            # Calcula la media de la columna\n",
    "            mean = column.mean()\n",
    "\n",
    "            # Calcula la desviación estándar de la columna\n",
    "            std = column.std()\n",
    "\n",
    "            # Calcula el valor mínimo de la columna\n",
    "            min_value = column.min()\n",
    "\n",
    "            # Calcula el valor máximo de la columna\n",
    "            max_value = column.max()\n",
    "\n",
    "            # Retorna una serie de pandas con las estadísticas calculadas\n",
    "            return pd.Series({\n",
    "                'count': count,\n",
    "                'mean': mean,\n",
    "                'std': std,\n",
    "                'min': min_value,\n",
    "                'max': max_value\n",
    "            })\n",
    "\n",
    "        # Itera sobre todas las columnas del DataFrame y llama a la función describe_column\n",
    "        result = []\n",
    "        for column in df.columns:\n",
    "            if np.issubdtype(df[column].dtype, np.number):\n",
    "                result.append(describe_column(df[column]))\n",
    "        # Concatena las series resultantes en un DataFrame\n",
    "        result_df = pd.concat(result, axis=1)\n",
    "        column_names = list(df.columns)\n",
    "        result_df.columns = column_names\n",
    "        return result_df\n",
    "    \n",
    "    def nombres(self):\n",
    "        return list(self.dataset.columns)\n",
    "    \n",
    "    def variable(self,name):\n",
    "        column = self.dataset[name]    \n",
    "        # Calcula el número de registros no nulos\n",
    "        count = column.count()\n",
    "        # Calcula la media de la columna\n",
    "        mean = column.mean()\n",
    "        # Calcula la desviación estándar de la columna\n",
    "        std = column.std()\n",
    "        # Calcula el valor mínimo de la columna\n",
    "        min_value = column.min()\n",
    "        # Calcula el valor máximo de la columna\n",
    "        max_value = column.max()\n",
    "        # Retorna una serie de pandas con las estadísticas calculadas\n",
    "        print('count:', count, '\\nmean:', mean, '\\nstd:', std, '\\nmin:', min_value, '\\nmax:', max_value, sep='')\n",
    "\n",
    "        \n",
    "       "
   ]
  },
  {
   "cell_type": "markdown",
   "id": "af84c51e",
   "metadata": {},
   "source": [
    "## Prueba 3"
   ]
  },
  {
   "cell_type": "code",
   "execution_count": 9,
   "id": "2de05956",
   "metadata": {},
   "outputs": [],
   "source": [
    "## Lectura del dataset dentro de la clase\n",
    "iris2 = Estadisticas(dataset = iris)"
   ]
  },
  {
   "cell_type": "code",
   "execution_count": 10,
   "id": "7e288226",
   "metadata": {
    "scrolled": false
   },
   "outputs": [
    {
     "data": {
      "text/html": [
       "<div>\n",
       "<style scoped>\n",
       "    .dataframe tbody tr th:only-of-type {\n",
       "        vertical-align: middle;\n",
       "    }\n",
       "\n",
       "    .dataframe tbody tr th {\n",
       "        vertical-align: top;\n",
       "    }\n",
       "\n",
       "    .dataframe thead th {\n",
       "        text-align: right;\n",
       "    }\n",
       "</style>\n",
       "<table border=\"1\" class=\"dataframe\">\n",
       "  <thead>\n",
       "    <tr style=\"text-align: right;\">\n",
       "      <th></th>\n",
       "      <th>sepal length (cm)</th>\n",
       "      <th>sepal width (cm)</th>\n",
       "      <th>petal length (cm)</th>\n",
       "      <th>petal width (cm)</th>\n",
       "      <th>target</th>\n",
       "    </tr>\n",
       "  </thead>\n",
       "  <tbody>\n",
       "    <tr>\n",
       "      <th>count</th>\n",
       "      <td>150.000000</td>\n",
       "      <td>150.000000</td>\n",
       "      <td>150.000000</td>\n",
       "      <td>150.000000</td>\n",
       "      <td>150.000000</td>\n",
       "    </tr>\n",
       "    <tr>\n",
       "      <th>mean</th>\n",
       "      <td>5.843333</td>\n",
       "      <td>3.057333</td>\n",
       "      <td>3.758000</td>\n",
       "      <td>1.199333</td>\n",
       "      <td>1.000000</td>\n",
       "    </tr>\n",
       "    <tr>\n",
       "      <th>std</th>\n",
       "      <td>0.828066</td>\n",
       "      <td>0.435866</td>\n",
       "      <td>1.765298</td>\n",
       "      <td>0.762238</td>\n",
       "      <td>0.819232</td>\n",
       "    </tr>\n",
       "    <tr>\n",
       "      <th>min</th>\n",
       "      <td>4.300000</td>\n",
       "      <td>2.000000</td>\n",
       "      <td>1.000000</td>\n",
       "      <td>0.100000</td>\n",
       "      <td>0.000000</td>\n",
       "    </tr>\n",
       "    <tr>\n",
       "      <th>max</th>\n",
       "      <td>7.900000</td>\n",
       "      <td>4.400000</td>\n",
       "      <td>6.900000</td>\n",
       "      <td>2.500000</td>\n",
       "      <td>2.000000</td>\n",
       "    </tr>\n",
       "  </tbody>\n",
       "</table>\n",
       "</div>"
      ],
      "text/plain": [
       "       sepal length (cm)  sepal width (cm)  petal length (cm)  \\\n",
       "count         150.000000        150.000000         150.000000   \n",
       "mean            5.843333          3.057333           3.758000   \n",
       "std             0.828066          0.435866           1.765298   \n",
       "min             4.300000          2.000000           1.000000   \n",
       "max             7.900000          4.400000           6.900000   \n",
       "\n",
       "       petal width (cm)      target  \n",
       "count        150.000000  150.000000  \n",
       "mean           1.199333    1.000000  \n",
       "std            0.762238    0.819232  \n",
       "min            0.100000    0.000000  \n",
       "max            2.500000    2.000000  "
      ]
     },
     "execution_count": 10,
     "metadata": {},
     "output_type": "execute_result"
    }
   ],
   "source": [
    "##  Método de Estadísticas descriptivas de cada una de las variables\n",
    "iris2.descriptivas()"
   ]
  },
  {
   "cell_type": "code",
   "execution_count": 11,
   "id": "68db329e",
   "metadata": {},
   "outputs": [
    {
     "data": {
      "text/plain": [
       "['sepal length (cm)',\n",
       " 'sepal width (cm)',\n",
       " 'petal length (cm)',\n",
       " 'petal width (cm)',\n",
       " 'target']"
      ]
     },
     "execution_count": 11,
     "metadata": {},
     "output_type": "execute_result"
    }
   ],
   "source": [
    "## Método de nombres de las variables\n",
    "iris2.nombres()"
   ]
  },
  {
   "cell_type": "code",
   "execution_count": 12,
   "id": "5add20c2",
   "metadata": {
    "scrolled": true
   },
   "outputs": [
    {
     "name": "stdout",
     "output_type": "stream",
     "text": [
      "count:150\n",
      "mean:1.0\n",
      "std:0.8192319205190405\n",
      "min:0\n",
      "max:2\n"
     ]
    }
   ],
   "source": [
    "## Método de las estadísticas descriptivas de una variable en particular\n",
    "iris2.variable(name = 'target')"
   ]
  }
 ],
 "metadata": {
  "kernelspec": {
   "display_name": "Python 3 (ipykernel)",
   "language": "python",
   "name": "python3"
  },
  "language_info": {
   "codemirror_mode": {
    "name": "ipython",
    "version": 3
   },
   "file_extension": ".py",
   "mimetype": "text/x-python",
   "name": "python",
   "nbconvert_exporter": "python",
   "pygments_lexer": "ipython3",
   "version": "3.10.9"
  }
 },
 "nbformat": 4,
 "nbformat_minor": 5
}
