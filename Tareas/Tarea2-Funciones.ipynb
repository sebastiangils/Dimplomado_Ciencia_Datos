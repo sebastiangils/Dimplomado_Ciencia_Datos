{
 "cells": [
  {
   "cell_type": "markdown",
   "id": "1cb9717e",
   "metadata": {},
   "source": [
    "# Funciones\n",
    "Elaborado por _Sebastian Gil Sanchez_\n"
   ]
  },
  {
   "cell_type": "markdown",
   "id": "91f7c979",
   "metadata": {},
   "source": [
    "1. Escriba una función  que reciba la fecha de nacimiento de un a persona y calcule la edad de la persona"
   ]
  },
  {
   "cell_type": "code",
   "execution_count": 36,
   "id": "b9cc780f",
   "metadata": {},
   "outputs": [],
   "source": [
    "import datetime\n",
    "\n",
    "def edad(fecha):\n",
    "    fecha_actual = datetime.date.today()\n",
    "    edad = fecha_actual - fecha\n",
    "    edad = edad.days // (365)\n",
    "    return edad\n",
    "    "
   ]
  },
  {
   "cell_type": "code",
   "execution_count": 44,
   "id": "34642316",
   "metadata": {},
   "outputs": [
    {
     "name": "stdout",
     "output_type": "stream",
     "text": [
      "A continuación digite su fecha de nacimiento, en números, de acuerdo a lo solicite el programa\n",
      "Dia: 32\n",
      "Mes: 2\n",
      "Año: 2\n",
      "Alguna de las entradas no fue correcta\n"
     ]
    }
   ],
   "source": [
    "print('A continuación digite su fecha de nacimiento, en números, de acuerdo a lo solicite el programa')\n",
    "\n",
    "dia = int(input(\"Dia: \"))\n",
    "mes = int(input(\"Mes: \"))\n",
    "año = int(input(\"Año: \"))\n",
    "\n",
    "fecha = [año,mes,dia]\n",
    "try:\n",
    "    fecha = datetime.date(*fecha)\n",
    "    print('La edad es: ',edad(fecha))\n",
    "except ValueError:\n",
    "    print('Alguna de las entradas no fue correcta, vuelva a ejecutar')\n",
    "    "
   ]
  },
  {
   "cell_type": "markdown",
   "id": "447b40ad",
   "metadata": {},
   "source": [
    "2. Crea una función EscribirCentrado, que reciba como parámetro un texto y lo escriba centrado en pantalla (suponiendo una anchura de 80 columnas; pista: deberás escribir 40 - longitud/2 espacios antes del texto)."
   ]
  },
  {
   "cell_type": "code",
   "execution_count": 64,
   "id": "7c7ae89f",
   "metadata": {},
   "outputs": [],
   "source": [
    "def EscribirCentrado(texto):\n",
    "    longitud = len(texto)\n",
    "    espacios = \" \" * int(40 - (longitud/2))\n",
    "    print(espacios + texto) "
   ]
  },
  {
   "cell_type": "code",
   "execution_count": 65,
   "id": "3f6e5660",
   "metadata": {},
   "outputs": [
    {
     "name": "stdout",
     "output_type": "stream",
     "text": [
      "Escriba lo que desee: Mi nombre es Sebastian\n",
      "                             Mi nombre es Sebastian\n"
     ]
    }
   ],
   "source": [
    "texto = input('Escriba lo que desee: ')\n",
    "EscribirCentrado(texto)"
   ]
  },
  {
   "cell_type": "markdown",
   "id": "a495c3f7",
   "metadata": {},
   "source": [
    "3. Construya una función decorada que reciba un texto y lo escriba marcado con Markdown en itálica y resaltada (bold). Revise la lección de decoradores, no vista en clase."
   ]
  },
  {
   "cell_type": "code",
   "execution_count": 114,
   "id": "17892068",
   "metadata": {},
   "outputs": [
    {
     "name": "stdout",
     "output_type": "stream",
     "text": [
      "Ingresa lo que sea: Hola\n",
      "**_Hola_**\n"
     ]
    }
   ],
   "source": [
    "def decoradora(funcion): ## El parametro de esta funcion decoradora es la funcion original\n",
    "    def adds(text): ## Esta funcion es la que va a agregar el italic and bold al texto, pero lo hace cuando se llama en el retunr\n",
    "        modificado = '**_'+text+'_**'\n",
    "        return funcion(modificado) ## Retorna la funcion original pero con la modificación ya hecha\n",
    "    return adds ## retorna la modificacion, es decir, la hace, \n",
    "\n",
    "@decoradora\n",
    "def texto(text): ## Esta es la función que vamos a decorar\n",
    "    print(text)\n",
    "\n",
    "    \n",
    "whatever = input('Ingresa lo que sea: ')\n",
    "texto(whatever) "
   ]
  },
  {
   "cell_type": "markdown",
   "id": "4688399e",
   "metadata": {},
   "source": [
    "4.  Crea un programa que pida dos número enteros al usuario y diga si alguno de ellos es múltiplo del otro. \n",
    "\n"
   ]
  },
  {
   "cell_type": "code",
   "execution_count": 51,
   "id": "3b09cafe",
   "metadata": {},
   "outputs": [
    {
     "name": "stdout",
     "output_type": "stream",
     "text": [
      "Ingrese dos números enteros separados por un espacio: 5 27\n",
      "Los numeros no son multiplos\n"
     ]
    }
   ],
   "source": [
    "try:    \n",
    "    num = input('Ingrese dos números enteros separados por un espacio: ')\n",
    "    num1 , num2 = num.split()\n",
    "    num1, num2 = map(int, (num1, num2))\n",
    "except ValueError:\n",
    "    print('Los números ingresados no son válidos')\n",
    "except TypeError:\n",
    "    print('Los números ingresados no son la cantidad especifica solicitada')\n",
    "\n",
    "maxi , mini  = ((num1 , num2 )if(num1 > num2) else (num2, num1))\n",
    "\n",
    "if maxi % mini == 0 : \n",
    "    print('Los numeros son multiplos')\n",
    "else:\n",
    "    print('Los numeros no son multiplos')\n",
    "    "
   ]
  },
  {
   "cell_type": "markdown",
   "id": "be9043af",
   "metadata": {},
   "source": [
    "5. Crear una función que reciba una lista  de 24 valores de temperatura leída  hora en un día y que calcule la temperatura media    \n",
    "* Cree una lista con 24 valores de temperatura de un día de Bogotá y pruebe su función. Invente los datos."
   ]
  },
  {
   "cell_type": "code",
   "execution_count": 53,
   "id": "b305855f",
   "metadata": {},
   "outputs": [
    {
     "name": "stdout",
     "output_type": "stream",
     "text": [
      "Los valores de temperatura son  [13, 29, 17, 24, 15, 12, 23, 26, 2, 15, 4, 16, 14, 22, 0, 14, 9, 12, 18, 30, 30, 11, 21, 16]\n",
      "La temperatura media es  16.38\n"
     ]
    }
   ],
   "source": [
    "def media(x):\n",
    "    return round(sum(x) / len(x),2)\n",
    "    \n",
    "\n",
    "# Creando una lista de 24 valores de temperatura, aleatorios, entre 0c° y 30c°\n",
    "import random\n",
    "temp = []\n",
    "for i in range(24):\n",
    "    numero_aleatorio = random.randint(0,30)\n",
    "    temp.append(numero_aleatorio)\n",
    "    \n",
    "print('Los valores de temperatura son ',temp)\n",
    "print('La temperatura media es ',media(temp))"
   ]
  },
  {
   "cell_type": "markdown",
   "id": "078d7524",
   "metadata": {},
   "source": [
    "5. Crea un función “ConvertirEspaciado”, que reciba como parámetro un texto y devuelve una cadena con un espacio adicional tras cada letra. Por ejemplo, “Hola, tú” devolverá “H o l a , t ú “.  Pruebe "
   ]
  },
  {
   "cell_type": "code",
   "execution_count": 69,
   "id": "4e07fcb7",
   "metadata": {},
   "outputs": [
    {
     "name": "stdout",
     "output_type": "stream",
     "text": [
      "P r u e b a \n",
      "H o l a ,   t ú \n"
     ]
    }
   ],
   "source": [
    "def ConvertirEspaciado(text):\n",
    "    text = list(text)\n",
    "    text2 =  []\n",
    "    for i in range(2*len(text)):\n",
    "        if i%2 == 0:\n",
    "            text2.append(text[i//2])\n",
    "        else: \n",
    "            text2.append(' ')\n",
    "    text2 = ''.join(text2)\n",
    "    return text2\n",
    "\n",
    "a = 'Prueba'\n",
    "b = 'Hola, tú'\n",
    "\n",
    "print(ConvertirEspaciado(a))\n",
    "print(ConvertirEspaciado(b))"
   ]
  },
  {
   "cell_type": "markdown",
   "id": "9023b5d3",
   "metadata": {},
   "source": [
    "6. Crea una función “calcularMaxMin” que recibe una arreglo con valores numérico y devuelve el valor máximo y el mínimo. "
   ]
  },
  {
   "cell_type": "code",
   "execution_count": 87,
   "id": "c88437c0",
   "metadata": {},
   "outputs": [
    {
     "name": "stdout",
     "output_type": "stream",
     "text": [
      "[12, 30, 28, 23, 24, 27, 7, 3, 3, 12]\n",
      "(30, 3)\n"
     ]
    }
   ],
   "source": [
    "def calcularMaxMin(a):\n",
    "    maxi , mini = a[1] , a[1]\n",
    "    \n",
    "    for i in range(len(a)-1):\n",
    "        maxi = ((a[i+1]) if a[i+1] > maxi else maxi)\n",
    "        mini = ((a[i]) if a[i] < mini else mini)\n",
    "    return maxi, mini\n",
    "\n",
    "\n",
    "import random\n",
    "array = []\n",
    "for i in range(10):\n",
    "    numero_aleatorio = random.randint(0,30)\n",
    "    array.append(numero_aleatorio)\n",
    "\n",
    "print(array)\n",
    "print(calcularMaxMin(array))\n"
   ]
  },
  {
   "cell_type": "markdown",
   "id": "9c0ed9dc",
   "metadata": {},
   "source": [
    "7.  Diseñar una función que calcule el área y el perímetro de una circunferencia. "
   ]
  },
  {
   "cell_type": "code",
   "execution_count": 97,
   "id": "9700f032",
   "metadata": {},
   "outputs": [
    {
     "name": "stdout",
     "output_type": "stream",
     "text": [
      "Ingrese el radio del circulo: 5\n",
      "El area es  78.53981633974483  y el perimetro es  31.41592653589793\n"
     ]
    }
   ],
   "source": [
    "import math\n",
    "pi = math.pi\n",
    "radio = float(input('Ingrese el radio del circulo: '))\n",
    "\n",
    "def calculo(r):\n",
    "    area = pi * (r**2)\n",
    "    peri = 2*pi*r\n",
    "    return area, peri\n",
    "\n",
    "print('El area es ',calculo(radio)[0],' y el perimetro es ',calculo(radio)[1])"
   ]
  },
  {
   "cell_type": "markdown",
   "id": "6f6ca255",
   "metadata": {},
   "source": [
    "8. Crear una función  llamada “Login”, que recibe un nombre de usuario y una contraseña y devuelva Verdadero si el nombre de usuario es “usuario1” y la contraseña es “asdasd”. Además recibe el número de intentos que se ha intentado hacer login y si no se ha podido hacer login incremente este valor."
   ]
  },
  {
   "cell_type": "code",
   "execution_count": 108,
   "id": "f840de6a",
   "metadata": {},
   "outputs": [
    {
     "name": "stdout",
     "output_type": "stream",
     "text": [
      "Usuario: KJDFSA\n",
      "Contraseña: ADF\n",
      "Intento:  1\n",
      "_____________\n",
      "Usuario: adf\n",
      "Contraseña: asdf\n",
      "Intento:  2\n",
      "_____________\n",
      "Usuario: adsf\n",
      "Contraseña: adsf\n",
      "Intento:  3\n",
      "_____________\n",
      "Usuario: adsf\n",
      "Contraseña: sdaf\n",
      "Intento:  4\n",
      "_____________\n",
      "Usuario: a\n",
      "Contraseña: usuario1\n",
      "Intento:  5\n",
      "_____________\n",
      "Usuario: usario1\n",
      "Contraseña: sdaf\n",
      "Intento:  6\n",
      "_____________\n",
      "Usuario: usuario1\n",
      "Contraseña: asdasd\n",
      "Verdadero, en No. intento:  7\n",
      "_____________\n"
     ]
    }
   ],
   "source": [
    "def login(usuario, contrasena, intento):\n",
    "    if (usuario == 'usuario1' and contrasena == 'asdasd'):\n",
    "        print('Verdadero, en No. intento: ', intento)\n",
    "        return True\n",
    "    else:\n",
    "        print('Intento: ', intento)\n",
    "        return False\n",
    "\n",
    "intento = 0\n",
    "i = False\n",
    "\n",
    "while i == False: \n",
    "    u = input('Usuario: ')\n",
    "    c = input('Contraseña: ')\n",
    "    intento += 1\n",
    "    i = login(u,c, intento)\n",
    "    print(\"_____________\")\n",
    "    \n",
    "\n"
   ]
  },
  {
   "cell_type": "markdown",
   "id": "28e0f313",
   "metadata": {},
   "source": [
    "9. Crear una función recursiva que permita calcular el factorial de un número. Realiza un programa principal donde se lea un entero y se muestre el resultado del factorial. Revise la lección de funciones."
   ]
  },
  {
   "cell_type": "code",
   "execution_count": 118,
   "id": "4a08535c",
   "metadata": {},
   "outputs": [
    {
     "name": "stdout",
     "output_type": "stream",
     "text": [
      "Ingrese un entero el cualquiera al que desee calcular el factorial:  9\n",
      "9 ! =  362880\n"
     ]
    }
   ],
   "source": [
    "def facto(n):\n",
    "    if n>0:\n",
    "        final = facto(n-1)*n\n",
    "        return final\n",
    "    else:\n",
    "        return 1\n",
    "\n",
    "try:\n",
    "    n = int(input('Ingrese un entero el cualquiera al que desee calcular el factorial:  '))\n",
    "    print(n,\"! = \", facto(n))\n",
    "except ValueError: \n",
    "    print('El valor ingresado no es un entero')|\n",
    "    \n"
   ]
  },
  {
   "cell_type": "markdown",
   "id": "a7990381",
   "metadata": {},
   "source": [
    "10. Escribir dos funciones que permitan calcular:   \n",
    "* La cantidad de segundos en un tiempo dado en horas, minutos y segundos.   \n",
    "* La cantidad de horas, minutos y segundos de un tiempo dado en segundos.   "
   ]
  },
  {
   "cell_type": "code",
   "execution_count": 137,
   "id": "d42111d6",
   "metadata": {},
   "outputs": [
    {
     "name": "stdout",
     "output_type": "stream",
     "text": [
      "Punto 1.\n",
      "Ingrese la cantidad de horas: 5\n",
      "Ingrese la cantidad de minutos: 35\n",
      "Ingrese la cantidad de segundos: 12\n",
      "Hay un total de  20112\n",
      "__________ \n",
      " Punto 2. \n",
      "2. Ingrese la cantidad de segundos: 20112\n",
      "Hay una cantidad de 5 horas, 35 minutos y 12 segundos.\n"
     ]
    }
   ],
   "source": [
    "def seconds(h, m, s):\n",
    "    sec = (h*3600) + (m*60) + s\n",
    "    return sec\n",
    "\n",
    "## Prueba\n",
    "# horas = 5 # 18k seconds\n",
    "# minutos = 35 # 2.1k seconds\n",
    "# segundos = 12\n",
    "# La respuesta seria 20112 segundos\n",
    "print('Punto 1.')\n",
    "horas = int(input('Ingrese la cantidad de horas: '))\n",
    "minutos = int(input('Ingrese la cantidad de minutos: '))\n",
    "segundos = int(input('Ingrese la cantidad de segundos: '))\n",
    "print('Hay un total de ', seconds(horas,minutos,segundos))\n",
    "\n",
    "\n",
    "def tiempo(s):\n",
    "    horas = s//3600\n",
    "    minutos = (s%3600) // 60\n",
    "    segundos = s - (horas*3600 + minutos*60)\n",
    "    return horas, minutos,segundos\n",
    "## Prueba\n",
    "# segundos = 20112\n",
    "# La respuesta seria Horas = 5 , Minutos = 35 , Segundos = 12\n",
    "\n",
    "print('__________ \\n Punto 2. ')\n",
    "segundos = int(input('2. Ingrese la cantidad de segundos: '))\n",
    "print('Hay una cantidad de',tiempo(segundos)[0],'horas,',tiempo(segundos)[1],'minutos y',tiempo(segundos)[2],'segundos.')"
   ]
  },
  {
   "cell_type": "markdown",
   "id": "915b6e32",
   "metadata": {},
   "source": [
    "11. Crea una función  que lea una tupla, invierta los valores de la tupla y regrese una nueva tupla invirtiendo los valores. Recuerde que las tuplas son inmutables."
   ]
  },
  {
   "cell_type": "code",
   "execution_count": 146,
   "id": "b214fa6b",
   "metadata": {},
   "outputs": [
    {
     "name": "stdout",
     "output_type": "stream",
     "text": [
      "(5, 4, 3, 2, 1)\n",
      "<class 'tuple'>\n"
     ]
    }
   ],
   "source": [
    "tupla = (1,2,3,4,5)\n",
    "\n",
    "def invertir(tupla):\n",
    "    lista = []\n",
    "    for i in range(len(tupla)-1,-1,-1):\n",
    "        lista.append(tupla[i])\n",
    "    lista = tuple(lista)\n",
    "    return lista\n",
    "\n",
    "print(invertir(tupla))\n",
    "print(type(invertir(tupla)))\n",
    "    \n",
    "    "
   ]
  },
  {
   "cell_type": "markdown",
   "id": "6ffbc870",
   "metadata": {},
   "source": [
    "12. Escriba una función que lea una lista y calcule la media geométrica de sus valores, usando funtools.reduce.\n"
   ]
  },
  {
   "cell_type": "code",
   "execution_count": 148,
   "id": "e4f1106a",
   "metadata": {},
   "outputs": [
    {
     "name": "stdout",
     "output_type": "stream",
     "text": [
      "3.9999999999999996\n"
     ]
    }
   ],
   "source": [
    "import functools\n",
    "\n",
    "lista = [2, 4, 8]\n",
    "\n",
    "def producto(x, y):\n",
    "    return x * y\n",
    "\n",
    "media_geometrica = functools.reduce(producto, lista)** (1/len(lista))\n",
    "\n",
    "print(media_geometrica)\n",
    "\n"
   ]
  }
 ],
 "metadata": {
  "kernelspec": {
   "display_name": "Python 3",
   "language": "python",
   "name": "python3"
  },
  "language_info": {
   "codemirror_mode": {
    "name": "ipython",
    "version": 3
   },
   "file_extension": ".py",
   "mimetype": "text/x-python",
   "name": "python",
   "nbconvert_exporter": "python",
   "pygments_lexer": "ipython3",
   "version": "3.8.8"
  }
 },
 "nbformat": 4,
 "nbformat_minor": 5
}
